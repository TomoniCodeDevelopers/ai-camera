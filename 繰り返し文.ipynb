{
  "nbformat": 4,
  "nbformat_minor": 0,
  "metadata": {
    "colab": {
      "provenance": [],
      "toc_visible": true,
      "mount_file_id": "1yex3H6wYD9Rr6nMgNC__8fv9zpwUUB_U",
      "authorship_tag": "ABX9TyNCZgpOSGvOtq+WRoVuv9Nf",
      "include_colab_link": true
    },
    "kernelspec": {
      "name": "python3",
      "display_name": "Python 3"
    },
    "language_info": {
      "name": "python"
    }
  },
  "cells": [
    {
      "cell_type": "markdown",
      "metadata": {
        "id": "view-in-github",
        "colab_type": "text"
      },
      "source": [
        "<a href=\"https://colab.research.google.com/github/TomoniCodeDevelopers/ai-camera/blob/main/%E7%B9%B0%E3%82%8A%E8%BF%94%E3%81%97%E6%96%87.ipynb\" target=\"_parent\"><img src=\"https://colab.research.google.com/assets/colab-badge.svg\" alt=\"Open In Colab\"/></a>"
      ]
    },
    {
      "cell_type": "markdown",
      "source": [
        "# 繰り返し文\n",
        "LEGOのプログラミングで、何度も繰り返したい場合、繰り返しブロックを使っていました。Pythonでも繰り返しが使えます。LEGOプログラミングで使ってきた繰り返しブロックがPythonではどのように書くのかを説明します。Pythonでの繰り返しはforループと呼ばれます。"
      ],
      "metadata": {
        "id": "X23l_tfNa0TT"
      }
    },
    {
      "cell_type": "markdown",
      "source": [
        "# 指定された回数繰り返す"
      ],
      "metadata": {
        "id": "0tGX2Wcda1P7"
      }
    },
    {
      "cell_type": "markdown",
      "source": [
        "回数を指定して繰り返す場合はforループを使います。以下のサンプルは5回繰り返す例です。動かしてみましょう"
      ],
      "metadata": {
        "id": "TmZCDDlKbAz6"
      }
    },
    {
      "cell_type": "code",
      "source": [
        "# 繰り返しサンプル\n",
        "for _ in range(5):\n",
        "    print('hello')"
      ],
      "metadata": {
        "id": "L1jbjuTKbGj0"
      },
      "execution_count": null,
      "outputs": []
    },
    {
      "cell_type": "markdown",
      "source": [
        "上記プログラムにおいて、for _ in range(数字):  は決まり文句です。range(数字)に設定する数字を変えることで、繰り返し回数を変えることができます。 range(数字)の後ろにコロン「:」を書くのを忘れないようにしましょう。forループの書き方を忘れたらまたこの説明を思い出してください。Geminiに「pythonで繰り返しの書き方を教えて」と質問しても教えてくれます。"
      ],
      "metadata": {
        "id": "oFE409_6xwO7"
      }
    },
    {
      "cell_type": "markdown",
      "source": [
        "**演習：**　あなたの名前、または、好きな食べ物を10回printするコードを書いてください。 ??? の部分やループ回数等を書き換えてください。"
      ],
      "metadata": {
        "id": "QYJEVIMHylpv"
      }
    },
    {
      "cell_type": "code",
      "source": [
        "# 繰り返しサンプル\n",
        "for _  in  ????(888888):\n",
        "    print('好きなもの')"
      ],
      "metadata": {
        "id": "vDzVtoVeytsA"
      },
      "execution_count": null,
      "outputs": []
    },
    {
      "cell_type": "markdown",
      "source": [
        "# 無限に繰り返す"
      ],
      "metadata": {
        "id": "xp3NNkLqbkyM"
      }
    },
    {
      "cell_type": "markdown",
      "source": [
        "LEGOプログラミングにおいて、ずっと繰り返すブロックがありました。Pythonにおいて無限に繰り返す場合は、whileループを使います。以下の例では無限にprintを実行します。<br>\n",
        "いつまでも走り続ける（暴走する）ので、■マークを押して実行を止めてください。"
      ],
      "metadata": {
        "id": "CFEKfp5Pbt7M"
      }
    },
    {
      "cell_type": "code",
      "source": [
        "while True:\n",
        "    print('hello')"
      ],
      "metadata": {
        "id": "NnPmbGyqb2Hb"
      },
      "execution_count": null,
      "outputs": []
    },
    {
      "cell_type": "markdown",
      "source": [
        "無限に繰り返す場合、　while True:  と書くのもPythonでは決まり文句です。覚えましょう。（忘れたら思い出してください）"
      ],
      "metadata": {
        "id": "WEg2JR1n9UXm"
      }
    },
    {
      "cell_type": "markdown",
      "source": [
        "**発展：:**\n",
        "while True:   について少しだけ説明します。  while文は、　while ***<何とか>*** : と書きます。　***<何とか>***の部分は式を書きます。式を計算した結果がFalse以外の場合while文のbody部を繰り返します。while True:  と書くといつまでもTrueなので、body部はいつまでも実行されることになります。 ***＜何とか＞***　の部分の書き方は＃＃を見てください。"
      ],
      "metadata": {
        "id": "6hwSKxZJ9qg8"
      }
    },
    {
      "cell_type": "markdown",
      "source": [
        "# リストから値を取り出しながら繰り返す"
      ],
      "metadata": {
        "id": "-E-rHqAvcFQo"
      }
    },
    {
      "cell_type": "markdown",
      "source": [
        "プログラムでよく使うのは、リストから値を取り出しながら繰り返すパターンです。<br>\n",
        "以下の例では、リスト(10, 20, 100)から値を取り出しながらループします。"
      ],
      "metadata": {
        "id": "1kNRlIj8cLa8"
      }
    },
    {
      "cell_type": "code",
      "source": [
        "for  x  in  (10,20,30):\n",
        "    print(x)"
      ],
      "metadata": {
        "id": "ooWlyiCfcXIe"
      },
      "execution_count": null,
      "outputs": []
    },
    {
      "cell_type": "markdown",
      "source": [
        "下の例は、文字列を順番に取り出しながらループします"
      ],
      "metadata": {
        "id": "8tITblOydxUw"
      }
    },
    {
      "cell_type": "code",
      "source": [
        "for x in ('hello','good bye','see you'):\n",
        "    print(x)"
      ],
      "metadata": {
        "id": "ISHk_g_BdjfP"
      },
      "execution_count": null,
      "outputs": []
    },
    {
      "cell_type": "markdown",
      "source": [
        "# 条件が成立する間、繰り返す"
      ],
      "metadata": {
        "id": "KROSiVLeeg1B"
      }
    },
    {
      "cell_type": "markdown",
      "source": [
        "while文と条件式と組み合わせることで条件が成立している間だけ繰り返すことができます。<br>while に続けてチェックする条件を書きます。<br> 例は以下です。<br>\n",
        "条件式の詳しい書き方は判断の章を見てください。"
      ],
      "metadata": {
        "id": "v6IWZ2h8fHW5"
      }
    },
    {
      "cell_type": "code",
      "source": [
        "x = 0            # 変数x を 0に設定\n",
        "while x < 10:    # x が10より小さい間はループを続ける\n",
        "  print(x)\n",
        "  x += 1         # xを１増やす"
      ],
      "metadata": {
        "id": "t6H92YN9fgFC"
      },
      "execution_count": null,
      "outputs": []
    },
    {
      "cell_type": "markdown",
      "source": [
        "ご参考：上記プログラムは以下のプログラムと同じ動きとなります"
      ],
      "metadata": {
        "id": "tLD8AHhCf_Lq"
      }
    },
    {
      "cell_type": "code",
      "source": [
        "for x in range(10):\n",
        "  print(x)"
      ],
      "metadata": {
        "id": "KN9tby9QgFNC"
      },
      "execution_count": null,
      "outputs": []
    }
  ]
}