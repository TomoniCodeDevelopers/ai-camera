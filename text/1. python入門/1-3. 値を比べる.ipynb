{
  "nbformat": 4,
  "nbformat_minor": 0,
  "metadata": {
    "colab": {
      "provenance": [],
      "authorship_tag": "ABX9TyMtbmH3wff1dzCmcfHSn1pO",
      "include_colab_link": true
    },
    "kernelspec": {
      "name": "python3",
      "display_name": "Python 3"
    },
    "language_info": {
      "name": "python"
    }
  },
  "cells": [
    {
      "cell_type": "markdown",
      "metadata": {
        "id": "view-in-github",
        "colab_type": "text"
      },
      "source": [
        "<a href=\"https://colab.research.google.com/github/TomoniCodeDevelopers/ai-camera/blob/main/text/1.%20python%E5%85%A5%E9%96%80/1-3.%20%E5%80%A4%E3%82%92%E6%AF%94%E3%81%B9%E3%82%8B.ipynb\" target=\"_parent\"><img src=\"https://colab.research.google.com/assets/colab-badge.svg\" alt=\"Open In Colab\"/></a>"
      ]
    },
    {
      "cell_type": "markdown",
      "source": [
        "# 値を比べる"
      ],
      "metadata": {
        "id": "5Q7ix1ovV1hv"
      }
    },
    {
      "cell_type": "markdown",
      "source": [
        "プログラム実行では値の比較を頻繁に行います。比較だけ見ると何の役に立つのか？と思うと思いますが、まずは聞いてください。\n",
        "\n",
        "ブロックプログラミングでは以下のような比較用ブロックが提供されていました。<br>\n",
        "<img src=\"https://github.com/TomoniCodeAcademy/LEGO-expoert-course/blob/main/img/document_parts/compare_block.png?raw=true\" width=150><br>\n",
        "\n",
        "Pythonでも値の比較を行うことができます。２つの値（数値）が大きいか、同じであるか、小さいかを比較するには、 >, =, < を使います。比較した結果は、True/ FalseのいずれかでPythonが答えを出します。正しい場合はTrue、間違っている場合はFalseと回答を出します。以下にサンプルを示しますので実行してみてください。"
      ],
      "metadata": {
        "id": "6szlOITtWJPw"
      }
    },
    {
      "cell_type": "code",
      "source": [
        "x = 10\n",
        "x > 3       # 変数xの値は3 よりも大きいか？　答えは??"
      ],
      "metadata": {
        "id": "m50vciW4WVgJ"
      },
      "execution_count": null,
      "outputs": []
    },
    {
      "cell_type": "code",
      "source": [
        "x = 10\n",
        "x > 3       # 変数xの値は3 よりも大きいか？　答えは??"
      ],
      "metadata": {
        "id": "extnH7-uWcEB"
      },
      "execution_count": null,
      "outputs": []
    },
    {
      "cell_type": "code",
      "source": [
        " x = 10\n",
        " x < 5      # 変数xの値は5 よりも小さいか？　答えは？？"
      ],
      "metadata": {
        "id": "XzKoc6SzWb7q"
      },
      "execution_count": null,
      "outputs": []
    },
    {
      "cell_type": "code",
      "source": [
        "x = 10\n",
        "x == 10     # 変数x の値は 10と等しいか？　答えは？？"
      ],
      "metadata": {
        "id": "EEa8_lsAWbwR"
      },
      "execution_count": null,
      "outputs": []
    },
    {
      "cell_type": "markdown",
      "source": [
        "値の比較は 条件分岐(if文) や whileループで必ず必要になります。詳しくは、条件分岐や繰り返しの章を参照してください。"
      ],
      "metadata": {
        "id": "j5uJVk8KmUdY"
      }
    },
    {
      "cell_type": "markdown",
      "source": [
        "**注意：**　変数への値の代入は x = 10と書きます。値の比較は、x == 10 と書きます。見てわかるように、代入と比較の違いは等号( = )が一つ多いかどうかだけです。よくやるミスとして、比較のつもりで、x = 10 と書いてしまうので注意しましょう。"
      ],
      "metadata": {
        "id": "LP_5S3Ocl0jH"
      }
    },
    {
      "cell_type": "markdown",
      "source": [
        "**発展：**　x > 10 と書くと、変数xの値は 10よりも大きいかを調べます。　 xが10の場合でも大丈夫と言う場合は、　　= を追加して、　x >= 10 と書きます。　>= とすることで、xの値が、10, 11, 12... の場合に　Pythonは、Trueと答えてくれます。"
      ],
      "metadata": {
        "id": "bpJXMBkGWEyS"
      }
    }
  ]
}