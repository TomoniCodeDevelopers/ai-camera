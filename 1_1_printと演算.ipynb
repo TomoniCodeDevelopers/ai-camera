{
  "nbformat": 4,
  "nbformat_minor": 0,
  "metadata": {
    "colab": {
      "provenance": [],
      "toc_visible": true,
      "authorship_tag": "ABX9TyNX6hc/gKzyd+zV697dOysB",
      "include_colab_link": true
    },
    "kernelspec": {
      "name": "python3",
      "display_name": "Python 3"
    },
    "language_info": {
      "name": "python"
    }
  },
  "cells": [
    {
      "cell_type": "markdown",
      "metadata": {
        "id": "view-in-github",
        "colab_type": "text"
      },
      "source": [
        "<a href=\"https://colab.research.google.com/github/TomoniCodeDevelopers/ai-camera/blob/main/1_1_print%E3%81%A8%E6%BC%94%E7%AE%97.ipynb\" target=\"_parent\"><img src=\"https://colab.research.google.com/assets/colab-badge.svg\" alt=\"Open In Colab\"/></a>"
      ]
    },
    {
      "cell_type": "markdown",
      "source": [
        "# 最初のプログラム\n",
        "Pythonを使った最初のプログラムを作りましょう。一番短いプログラムはprintを使ったプログラムです（多分）。"
      ],
      "metadata": {
        "id": "4NBgxYmSlKyr"
      }
    },
    {
      "cell_type": "code",
      "source": [
        "print('Hello')"
      ],
      "metadata": {
        "id": "VfSWncgblGoT"
      },
      "execution_count": null,
      "outputs": []
    },
    {
      "cell_type": "markdown",
      "source": [
        "プログラムを実行するには、まず画面左側のカッコの位置にマウスを持っていってください。△のマークが出ます。△マークをクリックしてください。Pythonが実行され、Helloと返事が返ってきます。"
      ],
      "metadata": {
        "id": "W0JmyqL_lc8k"
      }
    },
    {
      "cell_type": "markdown",
      "source": [
        "プログラムを作っていると、うまく動かないことがしょっちゅう出てきます。そんな時はprintを使ってどこに問題があるかを探します。LEGOを使ったプログラムでなかなか思ったように動かない時は、printを使って調べましょう。"
      ],
      "metadata": {
        "id": "HI4MkrAsnGGN"
      }
    },
    {
      "cell_type": "markdown",
      "source": [
        "発展： print() は　printという文字とカッコ () が組み合わさっています。　文字とカッコ()を組み合わせるとPytonでは関数の実行という意味になります。ですので、print('hello')と入力することにより、Pythonに対して、print関数を実行して 'hello' を出力せよと指示していることになります。このようにPythonにはprint以外に多くの関数が用意されており、必要な関数を使いながらプログラミングを進めます。"
      ],
      "metadata": {
        "id": "jJdyIK25LOGa"
      }
    },
    {
      "cell_type": "markdown",
      "source": [
        "演習：みなさんの名前をprint関数で出力しましょう。プログラムの'あなたの名前'の部分の皆さんの名前に変更してください。そして実行してみましょう"
      ],
      "metadata": {
        "id": "JerMddJuml3H"
      }
    },
    {
      "cell_type": "code",
      "execution_count": null,
      "metadata": {
        "id": "KXUWAGaslBUq"
      },
      "outputs": [],
      "source": [
        "print('あなたの名前')"
      ]
    },
    {
      "cell_type": "markdown",
      "source": [
        "# コメント\n",
        "プログラムを書く時、書いたプログラムがわかりやすいようにメモを書いておきます。プログラム内に書いたメモをコメントと言います。メモを書く理由は、後からプログラムを読んだときに思い出せるようにするためです。また、他人にプログラムを読んでもらう時に、分かりやすくするため説明文をコメントとしてソースコードに残します。\n",
        "\n",
        "コメントとして書くべき内容は、大まかな処理の説明や、設定している値の説明等です。細かくコメントを書く必要はありません。\n"
      ],
      "metadata": {
        "id": "AtM7KSV4o7Oq"
      }
    },
    {
      "cell_type": "markdown",
      "source": [
        "Pythonのコメントは # で始めます。以下がコメントの例です。コメントにすると無視され実行されません。"
      ],
      "metadata": {
        "id": "FkTciLh9pUm5"
      }
    },
    {
      "cell_type": "code",
      "source": [
        "# print文の演習です。あなたの名前を入れてください\n",
        "# print('トモーニ太郎')\n",
        "print('あなたの名前')"
      ],
      "metadata": {
        "id": "3nX54JlEpq_p"
      },
      "execution_count": null,
      "outputs": []
    },
    {
      "cell_type": "markdown",
      "source": [
        "演習：実際にコメントを書いてみましょう。実行して、コメントが実行されないことを確認してください。"
      ],
      "metadata": {
        "id": "srUydqaJu8zO"
      }
    },
    {
      "cell_type": "code",
      "source": [
        "# コメントを書いてみてください"
      ],
      "metadata": {
        "id": "eYyBNIayu4B3"
      },
      "execution_count": null,
      "outputs": []
    },
    {
      "cell_type": "markdown",
      "source": [
        "発展：コメントはメモを書く以外に、動作がおかしいソースコードを実行させないようにコメントに変更することができます。削除せずにソースコードを保持したい場合、一旦コメントにすることで、エラーで止まる問題を回避できます。このように実行したくないソースコードをコメントにすることをコメントアウトと呼びます。"
      ],
      "metadata": {
        "id": "G0UIrZASowiE"
      }
    },
    {
      "cell_type": "markdown",
      "source": [
        "演習：　以下のコードは０による割り算であり実行するとエラーになります。コメントアウトしてエラーを回避してください。"
      ],
      "metadata": {
        "id": "py1QS0LnpMhE"
      }
    },
    {
      "cell_type": "code",
      "source": [
        "# コメントアウトしてエラーを回避してください\n",
        "10 / 0        #  エラー発生行"
      ],
      "metadata": {
        "id": "lcIyDU2Kpi4c"
      },
      "execution_count": null,
      "outputs": []
    },
    {
      "cell_type": "markdown",
      "source": [
        "# Pyhonによる計算\n",
        "pythonでは、足し算や引き算、割り算ができます。値を計算することを数値演算と呼びます。足し算、引き算は以下です。実際に実行して計算してみましょう"
      ],
      "metadata": {
        "id": "ekqtWIabnq4o"
      }
    },
    {
      "cell_type": "code",
      "source": [
        "1 + 2"
      ],
      "metadata": {
        "id": "1Hk5dumZn-kQ"
      },
      "execution_count": null,
      "outputs": []
    },
    {
      "cell_type": "code",
      "source": [
        "99999 + 1"
      ],
      "metadata": {
        "id": "ieIsLaH5oJge"
      },
      "execution_count": null,
      "outputs": []
    },
    {
      "cell_type": "code",
      "source": [
        "0.1 + 0.001"
      ],
      "metadata": {
        "id": "QQJFX4TLoMgf"
      },
      "execution_count": null,
      "outputs": []
    },
    {
      "cell_type": "code",
      "source": [
        "10000 - 1"
      ],
      "metadata": {
        "id": "CvxM2XhxoR-W"
      },
      "execution_count": null,
      "outputs": []
    },
    {
      "cell_type": "markdown",
      "source": [
        "掛け算、割り算もできます。"
      ],
      "metadata": {
        "id": "4O4xSAIFoYDP"
      }
    },
    {
      "cell_type": "code",
      "source": [
        "1.23 * 4    #  掛け算の例"
      ],
      "metadata": {
        "id": "SebRC2kIrAcC"
      },
      "execution_count": null,
      "outputs": []
    },
    {
      "cell_type": "code",
      "source": [
        "10 / 3    # 　割り算の例　10を3で割ると。。"
      ],
      "metadata": {
        "id": "cRDvusq0rDLi"
      },
      "execution_count": null,
      "outputs": []
    },
    {
      "cell_type": "markdown",
      "source": [
        "０で割るとエラーになるので注意してください。"
      ],
      "metadata": {
        "id": "5g_k2p8DodKR"
      }
    },
    {
      "cell_type": "code",
      "source": [
        "1/0    #  0による割り算の例、エラーになります。絶対に実行しないでください :-)"
      ],
      "metadata": {
        "id": "CUa-4gM9oo1n"
      },
      "execution_count": null,
      "outputs": []
    },
    {
      "cell_type": "markdown",
      "source": [
        "なぜ０で割るといけないのかは考えてみてください。Geminiに聞いてたら教えてくれるかもしれません。画面右上の★マークがGeminiです。分からない時はいろいろ教えてくれます。"
      ],
      "metadata": {
        "id": "dyUuh0yRqzAC"
      }
    },
    {
      "cell_type": "markdown",
      "source": [
        "**演習**　何か数値演算させてみましょう。以下は例なので書き換えて実行してください"
      ],
      "metadata": {
        "id": "wj00WHe5rqDb"
      }
    },
    {
      "cell_type": "code",
      "source": [
        "1 - 3 * 4 / 5 + 7 / 8 * 9 - 10"
      ],
      "metadata": {
        "id": "BaIvHVunrpHr"
      },
      "execution_count": null,
      "outputs": []
    },
    {
      "cell_type": "markdown",
      "source": [
        "### 演算と優先順位\n",
        "計算のことを演算と呼びます。演算する際の注意点として、演算の優先度に注意してください。例えば、10 + 5 / 3  と入力すると、どう計算されると思いますか？　実際に実行して確かめてください"
      ],
      "metadata": {
        "id": "BTevSeccr7U9"
      }
    },
    {
      "cell_type": "code",
      "source": [
        "10 + 5 / 3"
      ],
      "metadata": {
        "id": "hgBAG2VCtaMm"
      },
      "execution_count": null,
      "outputs": []
    },
    {
      "cell_type": "markdown",
      "source": [
        "答えが５になると思いましたか？　答えが5にならないのは、足し算よりも割り算の方が優先度が高いせいです。　割り算の 5 / 3 が先に計算されてしまいます。"
      ],
      "metadata": {
        "id": "sxCr4f31tgmY"
      }
    },
    {
      "cell_type": "markdown",
      "source": [
        "もし 10 + 5 を先に計算したい場合は、カッコで囲ってください。 ( 10 + 5 ) / 3  と書きます。そうすると、先に　10 + 5 が計算され、次に３による割り算が行われます。下にカッコで囲った例を示します。実行してみてください。"
      ],
      "metadata": {
        "id": "DqYE8Fx4tBWV"
      }
    },
    {
      "cell_type": "code",
      "source": [
        "(10 + 5) / 3"
      ],
      "metadata": {
        "id": "8O6OKfkZuIDf",
        "collapsed": true
      },
      "execution_count": null,
      "outputs": []
    },
    {
      "cell_type": "markdown",
      "source": [
        "**演習：**　2000円のプレゼントと、3000円のプレゼントを買って、3人で支払を分担するプログラムを書いてみましょう。以下は思った動きにならない間違ったコードです。カッコを使って正しい結果になるように書き換えてください。（正しく直さないと、お金を払いすぎてしまいます）"
      ],
      "metadata": {
        "id": "hbDDo-QPrJS8"
      }
    },
    {
      "cell_type": "code",
      "source": [
        "2000 + 3000 / 3"
      ],
      "metadata": {
        "id": "-tpMv3rPrk2b"
      },
      "execution_count": null,
      "outputs": []
    },
    {
      "cell_type": "markdown",
      "source": [
        "**発展：**　演算の優先度（優先順位）は決まっています。Pythonにおける演算子の優先順位についてGeminiに「演算子の優先順位を表で示して」と質問すると詳細に教えてくれます。"
      ],
      "metadata": {
        "id": "HMiHoAL6nrBa"
      }
    }
  ]
}